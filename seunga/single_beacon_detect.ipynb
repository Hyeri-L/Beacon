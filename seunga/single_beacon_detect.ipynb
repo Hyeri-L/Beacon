{
 "cells": [
  {
   "cell_type": "code",
   "execution_count": 1,
   "id": "d4c556e6",
   "metadata": {},
   "outputs": [],
   "source": [
    "import numpy as np\n",
    "import pandas as pd\n",
    "import matplotlib\n",
    "import matplotlib.pyplot as plt"
   ]
  },
  {
   "cell_type": "code",
   "execution_count": 17,
   "id": "2a745f3a",
   "metadata": {},
   "outputs": [],
   "source": [
    "ml2 = pd.read_csv(\"ML_2_plus.csv\")\n",
    "# name = ml2['name']\n",
    "# rssi = ml2['RSSI']\n",
    "rssi = ml2[['name','RSSI']]"
   ]
  },
  {
   "cell_type": "code",
   "execution_count": 18,
   "id": "6f2e1188",
   "metadata": {},
   "outputs": [
    {
     "data": {
      "text/html": [
       "<div>\n",
       "<style scoped>\n",
       "    .dataframe tbody tr th:only-of-type {\n",
       "        vertical-align: middle;\n",
       "    }\n",
       "\n",
       "    .dataframe tbody tr th {\n",
       "        vertical-align: top;\n",
       "    }\n",
       "\n",
       "    .dataframe thead th {\n",
       "        text-align: right;\n",
       "    }\n",
       "</style>\n",
       "<table border=\"1\" class=\"dataframe\">\n",
       "  <thead>\n",
       "    <tr style=\"text-align: right;\">\n",
       "      <th></th>\n",
       "      <th>name</th>\n",
       "      <th>RSSI</th>\n",
       "    </tr>\n",
       "  </thead>\n",
       "  <tbody>\n",
       "    <tr>\n",
       "      <th>0</th>\n",
       "      <td>4</td>\n",
       "      <td>-73</td>\n",
       "    </tr>\n",
       "    <tr>\n",
       "      <th>1</th>\n",
       "      <td>2</td>\n",
       "      <td>-50</td>\n",
       "    </tr>\n",
       "    <tr>\n",
       "      <th>2</th>\n",
       "      <td>3</td>\n",
       "      <td>-67</td>\n",
       "    </tr>\n",
       "    <tr>\n",
       "      <th>3</th>\n",
       "      <td>1</td>\n",
       "      <td>-84</td>\n",
       "    </tr>\n",
       "    <tr>\n",
       "      <th>4</th>\n",
       "      <td>2</td>\n",
       "      <td>-54</td>\n",
       "    </tr>\n",
       "    <tr>\n",
       "      <th>...</th>\n",
       "      <td>...</td>\n",
       "      <td>...</td>\n",
       "    </tr>\n",
       "    <tr>\n",
       "      <th>998</th>\n",
       "      <td>3</td>\n",
       "      <td>-62</td>\n",
       "    </tr>\n",
       "    <tr>\n",
       "      <th>999</th>\n",
       "      <td>8</td>\n",
       "      <td>-78</td>\n",
       "    </tr>\n",
       "    <tr>\n",
       "      <th>1000</th>\n",
       "      <td>3</td>\n",
       "      <td>-70</td>\n",
       "    </tr>\n",
       "    <tr>\n",
       "      <th>1001</th>\n",
       "      <td>4</td>\n",
       "      <td>-73</td>\n",
       "    </tr>\n",
       "    <tr>\n",
       "      <th>1002</th>\n",
       "      <td>6</td>\n",
       "      <td>-76</td>\n",
       "    </tr>\n",
       "  </tbody>\n",
       "</table>\n",
       "<p>1003 rows × 2 columns</p>\n",
       "</div>"
      ],
      "text/plain": [
       "      name  RSSI\n",
       "0        4   -73\n",
       "1        2   -50\n",
       "2        3   -67\n",
       "3        1   -84\n",
       "4        2   -54\n",
       "...    ...   ...\n",
       "998      3   -62\n",
       "999      8   -78\n",
       "1000     3   -70\n",
       "1001     4   -73\n",
       "1002     6   -76\n",
       "\n",
       "[1003 rows x 2 columns]"
      ]
     },
     "execution_count": 18,
     "metadata": {},
     "output_type": "execute_result"
    }
   ],
   "source": [
    "rssi"
   ]
  },
  {
   "cell_type": "code",
   "execution_count": 19,
   "id": "54ba26af",
   "metadata": {},
   "outputs": [
    {
     "data": {
      "text/plain": [
       "4"
      ]
     },
     "execution_count": 19,
     "metadata": {},
     "output_type": "execute_result"
    }
   ],
   "source": [
    "rssi['name'][0]"
   ]
  },
  {
   "cell_type": "code",
   "execution_count": 89,
   "id": "5cff3cbd",
   "metadata": {},
   "outputs": [
    {
     "name": "stdout",
     "output_type": "stream",
     "text": [
      "ML_4F_1: 139 정확도: 0.695\n",
      "ML_4F_2: 171 정확도: 0.855\n",
      "ML_4F_3: 134 정확도: 0.67\n",
      "ML_4F_4: 125 정확도: 0.625\n",
      "ML_4F_5: 0 정확도: 0.0\n",
      "ML_4F_6: 125 정확도: 0.625\n",
      "ML_4F_7: 0 정확도: 0.0\n",
      "ML_4F_8: 149 정확도: 0.745\n",
      "평균: 0.7025\n"
     ]
    }
   ],
   "source": [
    "# 순서대로 5개씩 묶은 경우, 가장 가까운 MAC 주소가 딕셔너리에 있고, 최대 rssi값과 같으면 count 증가\n",
    "\n",
    "beacon_list = ['82:cb','86:2f','84:4b','82:62','00:00','81:9d','00:00','86:03']\n",
    "n=1\n",
    "average = 0\n",
    "for mac in beacon_list:\n",
    "    \n",
    "    df = pd.read_csv(\"ML_4F_\"+str(n)+\".csv\")\n",
    "    rssi = df[['MACaddress','RSSI']]\n",
    "        \n",
    "    dict = {}\n",
    "    count = 0\n",
    "    \n",
    "    for i in range(0,len(rssi)-5,5):\n",
    "        dict[rssi['MACaddress'][i]] = rssi['RSSI'][i]\n",
    "        dict[rssi['MACaddress'][i+1]] = rssi['RSSI'][i+1]\n",
    "        dict[rssi['MACaddress'][i+2]] = rssi['RSSI'][i+2]\n",
    "        dict[rssi['MACaddress'][i+3]] = rssi['RSSI'][i+3]\n",
    "        dict[rssi['MACaddress'][i+4]] = rssi['RSSI'][i+4]\n",
    "\n",
    "        if mac in dict and max(dict.values()) == dict[mac]:\n",
    "            count += 1\n",
    "        \n",
    "        dict = {}\n",
    "        \n",
    "    print(\"ML_4F_\"+str(n)+\":\",count,\"정확도:\",count/200)\n",
    "    average += count\n",
    "    n += 1\n",
    "    \n",
    "print(\"평균:\",average/200/6)"
   ]
  },
  {
   "cell_type": "code",
   "execution_count": null,
   "id": "ed0bc372",
   "metadata": {},
   "outputs": [],
   "source": []
  },
  {
   "cell_type": "code",
   "execution_count": null,
   "id": "7b2011cc",
   "metadata": {},
   "outputs": [],
   "source": []
  },
  {
   "cell_type": "code",
   "execution_count": null,
   "id": "8cf80568",
   "metadata": {},
   "outputs": [],
   "source": []
  },
  {
   "cell_type": "code",
   "execution_count": null,
   "id": "e7f1b39a",
   "metadata": {},
   "outputs": [],
   "source": []
  },
  {
   "cell_type": "code",
   "execution_count": null,
   "id": "211bc817",
   "metadata": {},
   "outputs": [],
   "source": []
  },
  {
   "cell_type": "code",
   "execution_count": null,
   "id": "b9f4e6fc",
   "metadata": {},
   "outputs": [],
   "source": []
  },
  {
   "cell_type": "code",
   "execution_count": null,
   "id": "c3be0c30",
   "metadata": {},
   "outputs": [],
   "source": []
  },
  {
   "cell_type": "code",
   "execution_count": null,
   "id": "e0d398cb",
   "metadata": {},
   "outputs": [],
   "source": []
  },
  {
   "cell_type": "code",
   "execution_count": null,
   "id": "bd9ad9ed",
   "metadata": {},
   "outputs": [],
   "source": []
  },
  {
   "cell_type": "code",
   "execution_count": null,
   "id": "a53b20cf",
   "metadata": {},
   "outputs": [],
   "source": []
  },
  {
   "cell_type": "code",
   "execution_count": null,
   "id": "90e4e14e",
   "metadata": {},
   "outputs": [],
   "source": []
  },
  {
   "cell_type": "code",
   "execution_count": null,
   "id": "71db39e4",
   "metadata": {},
   "outputs": [],
   "source": []
  },
  {
   "cell_type": "code",
   "execution_count": null,
   "id": "5ced0a6f",
   "metadata": {},
   "outputs": [],
   "source": []
  },
  {
   "cell_type": "code",
   "execution_count": null,
   "id": "e3fd6963",
   "metadata": {},
   "outputs": [],
   "source": []
  }
 ],
 "metadata": {
  "kernelspec": {
   "display_name": "Python 3",
   "language": "python",
   "name": "python3"
  },
  "language_info": {
   "codemirror_mode": {
    "name": "ipython",
    "version": 3
   },
   "file_extension": ".py",
   "mimetype": "text/x-python",
   "name": "python",
   "nbconvert_exporter": "python",
   "pygments_lexer": "ipython3",
   "version": "3.8.8"
  }
 },
 "nbformat": 4,
 "nbformat_minor": 5
}
