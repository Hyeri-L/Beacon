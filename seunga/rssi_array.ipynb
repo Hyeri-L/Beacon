{
 "cells": [
  {
   "cell_type": "code",
   "execution_count": 1,
   "id": "6444df54",
   "metadata": {},
   "outputs": [],
   "source": [
    "import numpy as np\n",
    "import pandas as pd\n",
    "import matplotlib\n",
    "import matplotlib.pyplot as plt"
   ]
  },
  {
   "cell_type": "code",
   "execution_count": 2,
   "id": "42d6b4f2",
   "metadata": {},
   "outputs": [],
   "source": [
    "from sklearn.model_selection import cross_val_score\n",
    "from sklearn.preprocessing import StandardScaler\n",
    "from sklearn.pipeline import Pipeline"
   ]
  },
  {
   "cell_type": "code",
   "execution_count": 3,
   "id": "cdb1cbb0",
   "metadata": {},
   "outputs": [],
   "source": [
    "from sklearn.svm import LinearSVC\n",
    "from sklearn.svm import SVC "
   ]
  },
  {
   "cell_type": "code",
   "execution_count": 63,
   "id": "6266a63a",
   "metadata": {},
   "outputs": [],
   "source": [
    "# 배열 csv 생성\n",
    "# for _ in range(1,11):\n",
    "#     rssi_csv = open(\"rssi_array_\"+str(_)+\".csv\", \"w\")\n",
    "#     corridor = pd.read_csv(\"corridor_\"+str(_)+\".csv\")\n",
    "#     rssi = corridor['RSSI']\n",
    "#     for i in range(996): \n",
    "#         rssi_csv.write(str(_)+','+str(rssi[i])+','+str(rssi[i+1])+','+str(rssi[i+2])+','+str(rssi[i+3])+','+str(rssi[i+4])+'\\n')\n",
    "# rssi_csv.close()"
   ]
  },
  {
   "cell_type": "code",
   "execution_count": 4,
   "id": "b90faea0",
   "metadata": {},
   "outputs": [],
   "source": [
    "input_file = \"rssi_array.csv\"\n",
    "df = pd.read_csv(input_file, header=None)"
   ]
  },
  {
   "cell_type": "code",
   "execution_count": 5,
   "id": "17ab2ca4",
   "metadata": {},
   "outputs": [
    {
     "data": {
      "text/plain": [
       "array([[  1, -40, -42, -40, -41, -39],\n",
       "       [  1, -42, -40, -41, -39, -40],\n",
       "       [  1, -40, -41, -39, -40, -39],\n",
       "       ...,\n",
       "       [ 10, -51, -51, -48, -51, -49],\n",
       "       [ 10, -51, -48, -51, -49, -52],\n",
       "       [ 10, -48, -51, -49, -52, -52]], dtype=int64)"
      ]
     },
     "execution_count": 5,
     "metadata": {},
     "output_type": "execute_result"
    }
   ],
   "source": [
    "df = df.to_numpy()\n",
    "df"
   ]
  },
  {
   "cell_type": "code",
   "execution_count": 6,
   "id": "1f24da08",
   "metadata": {},
   "outputs": [
    {
     "data": {
      "text/plain": [
       "array([  1, -40, -42, -40, -41, -39], dtype=int64)"
      ]
     },
     "execution_count": 6,
     "metadata": {},
     "output_type": "execute_result"
    }
   ],
   "source": [
    "df[0]"
   ]
  },
  {
   "cell_type": "code",
   "execution_count": 7,
   "id": "2e86534b",
   "metadata": {},
   "outputs": [],
   "source": [
    "x = df[:, 1:]\n",
    "y = df[:, 0]"
   ]
  },
  {
   "cell_type": "code",
   "execution_count": 8,
   "id": "547e6292",
   "metadata": {},
   "outputs": [
    {
     "data": {
      "text/plain": [
       "array([[-40, -42, -40, -41, -39],\n",
       "       [-42, -40, -41, -39, -40],\n",
       "       [-40, -41, -39, -40, -39],\n",
       "       ...,\n",
       "       [-51, -51, -48, -51, -49],\n",
       "       [-51, -48, -51, -49, -52],\n",
       "       [-48, -51, -49, -52, -52]], dtype=int64)"
      ]
     },
     "execution_count": 8,
     "metadata": {},
     "output_type": "execute_result"
    }
   ],
   "source": [
    "x"
   ]
  },
  {
   "cell_type": "code",
   "execution_count": 9,
   "id": "53696c5f",
   "metadata": {},
   "outputs": [
    {
     "data": {
      "text/plain": [
       "array([ 1,  1,  1, ..., 10, 10, 10], dtype=int64)"
      ]
     },
     "execution_count": 9,
     "metadata": {},
     "output_type": "execute_result"
    }
   ],
   "source": [
    "y"
   ]
  },
  {
   "cell_type": "code",
   "execution_count": 75,
   "id": "9e9f947a",
   "metadata": {},
   "outputs": [],
   "source": [
    "poly_kernel_svm_clf = Pipeline([\n",
    "    (\"scaler\", StandardScaler()),\n",
    "    (\"svm_clf\", SVC(kernel=\"poly\", degree=10, coef0=10, C=1))\n",
    "])"
   ]
  },
  {
   "cell_type": "code",
   "execution_count": null,
   "id": "9d63469c",
   "metadata": {},
   "outputs": [],
   "source": [
    "m = cross_val_score(poly_kernel_svm_clf, x, y, cv=10, scoring=\"accuracy\")\n",
    "print(np.mean(m))"
   ]
  },
  {
   "cell_type": "code",
   "execution_count": null,
   "id": "bb67bafe",
   "metadata": {},
   "outputs": [],
   "source": [
    "from sklearn.ensemble import BaggingClassifier\n",
    "from sklearn.tree import DecisionTreeClassifier"
   ]
  },
  {
   "cell_type": "code",
   "execution_count": 11,
   "id": "64a22073",
   "metadata": {},
   "outputs": [
    {
     "name": "stdout",
     "output_type": "stream",
     "text": [
      "0.4829\n"
     ]
    }
   ],
   "source": [
    "from sklearn.ensemble import RandomForestClassifier\n",
    "\n",
    "rnd = RandomForestClassifier(n_estimators=1000, max_leaf_nodes=16, n_jobs=-1,random_state=42)\n",
    "rnd.fit(x,y)\n",
    "\n",
    "m = cross_val_score(rnd, x, y, cv=10, scoring=\"accuracy\")\n",
    "print(np.mean(m))"
   ]
  },
  {
   "cell_type": "code",
   "execution_count": null,
   "id": "b3cdf71a",
   "metadata": {},
   "outputs": [],
   "source": []
  },
  {
   "cell_type": "code",
   "execution_count": null,
   "id": "4f8b8562",
   "metadata": {},
   "outputs": [],
   "source": []
  },
  {
   "cell_type": "code",
   "execution_count": null,
   "id": "24f1cd2b",
   "metadata": {},
   "outputs": [],
   "source": []
  },
  {
   "cell_type": "code",
   "execution_count": null,
   "id": "754741ec",
   "metadata": {},
   "outputs": [],
   "source": []
  },
  {
   "cell_type": "code",
   "execution_count": null,
   "id": "721ab6d5",
   "metadata": {},
   "outputs": [],
   "source": []
  },
  {
   "cell_type": "code",
   "execution_count": null,
   "id": "6d2601cd",
   "metadata": {},
   "outputs": [],
   "source": []
  },
  {
   "cell_type": "code",
   "execution_count": null,
   "id": "e7cfaf0c",
   "metadata": {},
   "outputs": [],
   "source": []
  },
  {
   "cell_type": "code",
   "execution_count": null,
   "id": "8cc4f494",
   "metadata": {},
   "outputs": [],
   "source": []
  },
  {
   "cell_type": "code",
   "execution_count": null,
   "id": "244d3be2",
   "metadata": {},
   "outputs": [],
   "source": []
  }
 ],
 "metadata": {
  "kernelspec": {
   "display_name": "Python 3",
   "language": "python",
   "name": "python3"
  },
  "language_info": {
   "codemirror_mode": {
    "name": "ipython",
    "version": 3
   },
   "file_extension": ".py",
   "mimetype": "text/x-python",
   "name": "python",
   "nbconvert_exporter": "python",
   "pygments_lexer": "ipython3",
   "version": "3.8.8"
  }
 },
 "nbformat": 4,
 "nbformat_minor": 5
}
