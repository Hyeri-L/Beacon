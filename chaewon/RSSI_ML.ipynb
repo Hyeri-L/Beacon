{
 "cells": [
  {
   "cell_type": "code",
   "execution_count": 32,
   "id": "08c00d0a",
   "metadata": {},
   "outputs": [
    {
     "data": {
      "text/html": [
       "<div>\n",
       "<style scoped>\n",
       "    .dataframe tbody tr th:only-of-type {\n",
       "        vertical-align: middle;\n",
       "    }\n",
       "\n",
       "    .dataframe tbody tr th {\n",
       "        vertical-align: top;\n",
       "    }\n",
       "\n",
       "    .dataframe thead th {\n",
       "        text-align: right;\n",
       "    }\n",
       "</style>\n",
       "<table border=\"1\" class=\"dataframe\">\n",
       "  <thead>\n",
       "    <tr style=\"text-align: right;\">\n",
       "      <th></th>\n",
       "      <th>distance</th>\n",
       "      <th>RSSI</th>\n",
       "    </tr>\n",
       "  </thead>\n",
       "  <tbody>\n",
       "    <tr>\n",
       "      <th>0</th>\n",
       "      <td>0.1</td>\n",
       "      <td>-31</td>\n",
       "    </tr>\n",
       "    <tr>\n",
       "      <th>1</th>\n",
       "      <td>0.1</td>\n",
       "      <td>-35</td>\n",
       "    </tr>\n",
       "    <tr>\n",
       "      <th>2</th>\n",
       "      <td>0.1</td>\n",
       "      <td>-37</td>\n",
       "    </tr>\n",
       "    <tr>\n",
       "      <th>3</th>\n",
       "      <td>0.1</td>\n",
       "      <td>-18</td>\n",
       "    </tr>\n",
       "    <tr>\n",
       "      <th>4</th>\n",
       "      <td>0.1</td>\n",
       "      <td>-23</td>\n",
       "    </tr>\n",
       "    <tr>\n",
       "      <th>...</th>\n",
       "      <td>...</td>\n",
       "      <td>...</td>\n",
       "    </tr>\n",
       "    <tr>\n",
       "      <th>5009</th>\n",
       "      <td>1.0</td>\n",
       "      <td>-57</td>\n",
       "    </tr>\n",
       "    <tr>\n",
       "      <th>5010</th>\n",
       "      <td>1.0</td>\n",
       "      <td>-52</td>\n",
       "    </tr>\n",
       "    <tr>\n",
       "      <th>5011</th>\n",
       "      <td>1.0</td>\n",
       "      <td>-48</td>\n",
       "    </tr>\n",
       "    <tr>\n",
       "      <th>5012</th>\n",
       "      <td>1.0</td>\n",
       "      <td>-53</td>\n",
       "    </tr>\n",
       "    <tr>\n",
       "      <th>5013</th>\n",
       "      <td>1.0</td>\n",
       "      <td>-56</td>\n",
       "    </tr>\n",
       "  </tbody>\n",
       "</table>\n",
       "<p>5014 rows × 2 columns</p>\n",
       "</div>"
      ],
      "text/plain": [
       "      distance  RSSI\n",
       "0          0.1   -31\n",
       "1          0.1   -35\n",
       "2          0.1   -37\n",
       "3          0.1   -18\n",
       "4          0.1   -23\n",
       "...        ...   ...\n",
       "5009       1.0   -57\n",
       "5010       1.0   -52\n",
       "5011       1.0   -48\n",
       "5012       1.0   -53\n",
       "5013       1.0   -56\n",
       "\n",
       "[5014 rows x 2 columns]"
      ]
     },
     "execution_count": 32,
     "metadata": {},
     "output_type": "execute_result"
    }
   ],
   "source": [
    "import pandas as pd\n",
    "import matplotlib as mpl\n",
    "import matplotlib.pyplot as plt\n",
    "\n",
    "df = pd.read_csv('./distance_RSSI.csv')\n",
    "df"
   ]
  },
  {
   "cell_type": "code",
   "execution_count": 33,
   "id": "d1c287af",
   "metadata": {},
   "outputs": [
    {
     "data": {
      "text/plain": [
       "array([0.1, 0.2, 0.3, 0.4, 0.5, 0.6, 0.7, 0.8, 0.9, 1. ])"
      ]
     },
     "execution_count": 33,
     "metadata": {},
     "output_type": "execute_result"
    }
   ],
   "source": [
    "df.distance.unique()"
   ]
  },
  {
   "cell_type": "code",
   "execution_count": 34,
   "id": "e5cfbe90",
   "metadata": {},
   "outputs": [
    {
     "data": {
      "text/plain": [
       "0.2    505\n",
       "0.6    503\n",
       "0.4    502\n",
       "0.5    502\n",
       "0.1    502\n",
       "0.9    500\n",
       "0.3    500\n",
       "1.0    500\n",
       "0.7    500\n",
       "0.8    500\n",
       "Name: distance, dtype: int64"
      ]
     },
     "execution_count": 34,
     "metadata": {},
     "output_type": "execute_result"
    }
   ],
   "source": [
    "df['distance'].value_counts()"
   ]
  },
  {
   "cell_type": "code",
   "execution_count": 60,
   "id": "91250448",
   "metadata": {},
   "outputs": [],
   "source": [
    "train = df.RSSI[:]\n",
    "label = df.distance[:]"
   ]
  },
  {
   "cell_type": "code",
   "execution_count": 61,
   "id": "ef032a0b",
   "metadata": {},
   "outputs": [],
   "source": [
    "def create_dataset(signal_data, label, window_size=1):\n",
    "    dataX, dataY = [], []\n",
    "    for i in range(0, len(signal_data), window_size):\n",
    "        dataX.append(signal_data[i:(i+window_size)])\n",
    "        dataY.append(label[i])\n",
    "    return np.array(dataX), np.array(dataY)"
   ]
  },
  {
   "cell_type": "code",
   "execution_count": 62,
   "id": "b0e7b94e",
   "metadata": {},
   "outputs": [],
   "source": [
    "import numpy as np\n",
    "x_train, y_train = create_dataset(train, label)\n",
    "x_train_df = pd.DataFrame(x_train)"
   ]
  },
  {
   "cell_type": "code",
   "execution_count": 63,
   "id": "7cffeec6",
   "metadata": {},
   "outputs": [
    {
     "name": "stdout",
     "output_type": "stream",
     "text": [
      "-31\n"
     ]
    }
   ],
   "source": [
    "print(train[0])"
   ]
  },
  {
   "cell_type": "code",
   "execution_count": 64,
   "id": "765ac5ea",
   "metadata": {},
   "outputs": [
    {
     "name": "stdout",
     "output_type": "stream",
     "text": [
      "       0\n",
      "0    -31\n",
      "1    -35\n",
      "2    -37\n",
      "3    -18\n",
      "4    -23\n",
      "...   ..\n",
      "5009 -57\n",
      "5010 -52\n",
      "5011 -48\n",
      "5012 -53\n",
      "5013 -56\n",
      "\n",
      "[5014 rows x 1 columns]\n"
     ]
    }
   ],
   "source": [
    "print(x_train_df)"
   ]
  },
  {
   "cell_type": "code",
   "execution_count": 74,
   "id": "3f8421d9",
   "metadata": {},
   "outputs": [
    {
     "name": "stdout",
     "output_type": "stream",
     "text": [
      "[0.1 0.1 0.1 ... 1.  1.  1. ]\n"
     ]
    }
   ],
   "source": [
    "print(y_train)"
   ]
  },
  {
   "cell_type": "code",
   "execution_count": 75,
   "id": "7cf89f29",
   "metadata": {},
   "outputs": [
    {
     "name": "stdout",
     "output_type": "stream",
     "text": [
      "0.1\n"
     ]
    }
   ],
   "source": [
    "print(label[0])"
   ]
  },
  {
   "cell_type": "code",
   "execution_count": 76,
   "id": "07796da2",
   "metadata": {},
   "outputs": [],
   "source": [
    "from sklearn.ensemble import RandomForestClassifier\n",
    "forset_clf = RandomForestClassifier(n_estimators=10, random_state=42)"
   ]
  },
  {
   "cell_type": "code",
   "execution_count": 77,
   "id": "98b397d5",
   "metadata": {},
   "outputs": [
    {
     "data": {
      "text/plain": [
       "array([-31, -35, -37, ..., -48, -53, -56], dtype=int64)"
      ]
     },
     "execution_count": 77,
     "metadata": {},
     "output_type": "execute_result"
    }
   ],
   "source": [
    "train.values"
   ]
  },
  {
   "cell_type": "code",
   "execution_count": 78,
   "id": "7bb294e6",
   "metadata": {},
   "outputs": [
    {
     "data": {
      "text/plain": [
       "array([0.1, 0.1, 0.1, ..., 1. , 1. , 1. ])"
      ]
     },
     "execution_count": 78,
     "metadata": {},
     "output_type": "execute_result"
    }
   ],
   "source": [
    "label.values"
   ]
  },
  {
   "cell_type": "code",
   "execution_count": 80,
   "id": "93c0f65d",
   "metadata": {},
   "outputs": [],
   "source": [
    "df = df.astype({'distance':'int'})"
   ]
  },
  {
   "cell_type": "code",
   "execution_count": 84,
   "id": "7a3932ff",
   "metadata": {},
   "outputs": [],
   "source": [
    "def display_scores(scores):\n",
    "   print(\"Scores:\", scores)\n",
    "   print(\"Mean:\", scores.mean())\n",
    "   print(\"Standard deviation:\", scores.std())"
   ]
  },
  {
   "cell_type": "markdown",
   "id": "659a7c85",
   "metadata": {},
   "source": [
    "## 결정트리회귀"
   ]
  },
  {
   "cell_type": "code",
   "execution_count": 82,
   "id": "c0511a0b",
   "metadata": {},
   "outputs": [
    {
     "data": {
      "text/plain": [
       "DecisionTreeRegressor(random_state=42)"
      ]
     },
     "execution_count": 82,
     "metadata": {},
     "output_type": "execute_result"
    }
   ],
   "source": [
    "from sklearn.tree import DecisionTreeRegressor\n",
    "\n",
    "tree_reg = DecisionTreeRegressor(random_state=42)\n",
    "tree_reg.fit(x_train_df, y_train)"
   ]
  },
  {
   "cell_type": "code",
   "execution_count": 133,
   "id": "c0352fea",
   "metadata": {},
   "outputs": [
    {
     "data": {
      "text/plain": [
       "0.3807193948604395"
      ]
     },
     "execution_count": 133,
     "metadata": {},
     "output_type": "execute_result"
    }
   ],
   "source": [
    "tree_reg.score(x_train_df, y_train)"
   ]
  },
  {
   "cell_type": "code",
   "execution_count": 134,
   "id": "88ff7e8b",
   "metadata": {},
   "outputs": [
    {
     "name": "stdout",
     "output_type": "stream",
     "text": [
      "Predictions: [0.21148573 0.5063561  0.379316   ... 0.58439094 0.7082172  0.6972829 ]\n"
     ]
    }
   ],
   "source": [
    "print(\"Predictions:\", xgb_reg.predict(x_train_df))"
   ]
  },
  {
   "cell_type": "code",
   "execution_count": 135,
   "id": "ca8f32ff",
   "metadata": {},
   "outputs": [
    {
     "name": "stdout",
     "output_type": "stream",
     "text": [
      "Labels: [0.1 0.1 0.1 ... 1.  1.  1. ]\n"
     ]
    }
   ],
   "source": [
    "print(\"Labels:\", y_train)"
   ]
  },
  {
   "cell_type": "code",
   "execution_count": 83,
   "id": "1343e4e0",
   "metadata": {},
   "outputs": [],
   "source": [
    "from sklearn.model_selection import cross_val_score\n",
    "scores=cross_val_score(tree_reg, x_train_df, y_train, scoring=\"neg_mean_squared_error\", cv=10)\n",
    "tree_rmse_scores = np.sqrt(-scores)"
   ]
  },
  {
   "cell_type": "code",
   "execution_count": 85,
   "id": "451ef2cd",
   "metadata": {
    "scrolled": true
   },
   "outputs": [
    {
     "name": "stdout",
     "output_type": "stream",
     "text": [
      "Scores: [0.38847422 0.32733836 0.22322495 0.20571704 0.20054307 0.13445588\n",
      " 0.21604697 0.23243791 0.32187875 0.42360839]\n",
      "Mean: 0.26737255324818043\n",
      "Standard deviation: 0.08796604739060923\n"
     ]
    }
   ],
   "source": [
    "display_scores(tree_rmse_scores)"
   ]
  },
  {
   "cell_type": "markdown",
   "id": "a38dabee",
   "metadata": {},
   "source": [
    "## 선형회귀"
   ]
  },
  {
   "cell_type": "code",
   "execution_count": 87,
   "id": "d97b3ef4",
   "metadata": {},
   "outputs": [
    {
     "data": {
      "text/plain": [
       "LinearRegression()"
      ]
     },
     "execution_count": 87,
     "metadata": {},
     "output_type": "execute_result"
    }
   ],
   "source": [
    "from sklearn.linear_model import LinearRegression\n",
    "lr_reg= LinearRegression()\n",
    "lr_reg.fit(x_train_df, y_train)"
   ]
  },
  {
   "cell_type": "code",
   "execution_count": 89,
   "id": "8c774bcd",
   "metadata": {},
   "outputs": [],
   "source": [
    "from sklearn.model_selection import cross_val_score\n",
    "scores=cross_val_score(lr_reg, x_train_df, y_train, scoring=\"neg_mean_squared_error\", cv=10)\n",
    "lr_rmse_scores = np.sqrt(-scores)"
   ]
  },
  {
   "cell_type": "code",
   "execution_count": 90,
   "id": "a9f8fd41",
   "metadata": {
    "scrolled": true
   },
   "outputs": [
    {
     "name": "stdout",
     "output_type": "stream",
     "text": [
      "Scores: [0.34869189 0.31775111 0.20390167 0.18434916 0.20764714 0.1017366\n",
      " 0.22704082 0.26574466 0.34363961 0.40096754]\n",
      "Mean: 0.26014701867404944\n",
      "Standard deviation: 0.08708970314371574\n"
     ]
    }
   ],
   "source": [
    "display_scores(lr_rmse_scores)"
   ]
  },
  {
   "cell_type": "code",
   "execution_count": 132,
   "id": "259cd0dd",
   "metadata": {},
   "outputs": [
    {
     "data": {
      "text/plain": [
       "0.27741273778268516"
      ]
     },
     "execution_count": 132,
     "metadata": {},
     "output_type": "execute_result"
    }
   ],
   "source": [
    "lr_reg.score(x_train_df, y_train)"
   ]
  },
  {
   "cell_type": "code",
   "execution_count": 100,
   "id": "20e01eb9",
   "metadata": {},
   "outputs": [
    {
     "name": "stdout",
     "output_type": "stream",
     "text": [
      "       0\n",
      "0    -31\n",
      "1    -35\n",
      "2    -37\n",
      "3    -18\n",
      "4    -23\n",
      "...   ..\n",
      "5009 -57\n",
      "5010 -52\n",
      "5011 -48\n",
      "5012 -53\n",
      "5013 -56\n",
      "\n",
      "[5014 rows x 1 columns]\n"
     ]
    }
   ],
   "source": [
    "print(x_train_df)"
   ]
  },
  {
   "cell_type": "code",
   "execution_count": 98,
   "id": "285ee830",
   "metadata": {},
   "outputs": [
    {
     "name": "stdout",
     "output_type": "stream",
     "text": [
      "Predictions: [0.33949573 0.40037566 0.43081563 ... 0.59823545 0.67433537 0.71999532]\n"
     ]
    }
   ],
   "source": [
    "print(\"Predictions:\", lr_reg.predict(x_train_df))"
   ]
  },
  {
   "cell_type": "code",
   "execution_count": 99,
   "id": "f84e7bb4",
   "metadata": {
    "scrolled": true
   },
   "outputs": [
    {
     "name": "stdout",
     "output_type": "stream",
     "text": [
      "Labels: [0.1 0.1 0.1 ... 1.  1.  1. ]\n"
     ]
    }
   ],
   "source": [
    "print(\"Labels:\", y_train)"
   ]
  },
  {
   "cell_type": "markdown",
   "id": "259d92f8",
   "metadata": {},
   "source": [
    "## XGB 회귀"
   ]
  },
  {
   "cell_type": "code",
   "execution_count": 153,
   "id": "dc2a2101",
   "metadata": {},
   "outputs": [
    {
     "data": {
      "text/plain": [
       "XGBRegressor(base_score=0.5, booster='gbtree', colsample_bylevel=1,\n",
       "             colsample_bynode=1, colsample_bytree=1, enable_categorical=False,\n",
       "             gamma=0, gpu_id=-1, importance_type=None,\n",
       "             interaction_constraints='', learning_rate=0.300000012,\n",
       "             max_delta_step=0, max_depth=6, min_child_weight=1, missing=nan,\n",
       "             monotone_constraints='()', n_estimators=550, n_jobs=8,\n",
       "             num_parallel_tree=1, predictor='auto', random_state=0, reg_alpha=0,\n",
       "             reg_lambda=1, scale_pos_weight=1, subsample=1, tree_method='exact',\n",
       "             validate_parameters=1, verbosity=None)"
      ]
     },
     "execution_count": 153,
     "metadata": {},
     "output_type": "execute_result"
    }
   ],
   "source": [
    "import xgboost as xgb\n",
    "\n",
    "xgb_reg = xgb.XGBRegressor(n_estimators=550)\n",
    "xgb_reg.fit(x_train_df, y_train)"
   ]
  },
  {
   "cell_type": "code",
   "execution_count": 154,
   "id": "258dbc0a",
   "metadata": {},
   "outputs": [],
   "source": [
    "from sklearn.model_selection import cross_val_score\n",
    "scores=cross_val_score(xgb_reg, x_train_df, y_train, scoring=\"neg_mean_squared_error\", cv=10)\n",
    "xgb_rmse_scores = np.sqrt(-scores)"
   ]
  },
  {
   "cell_type": "code",
   "execution_count": 155,
   "id": "c3d79cb1",
   "metadata": {
    "scrolled": true
   },
   "outputs": [
    {
     "name": "stdout",
     "output_type": "stream",
     "text": [
      "Scores: [0.39598135 0.32732994 0.22319807 0.20569515 0.20053271 0.13440577\n",
      " 0.21602427 0.23244066 0.32188863 0.42360431]\n",
      "Mean: 0.26811008598681835\n",
      "Standard deviation: 0.08903378012292984\n"
     ]
    }
   ],
   "source": [
    "display_scores(xgb_rmse_scores)"
   ]
  },
  {
   "cell_type": "code",
   "execution_count": 156,
   "id": "1c93808e",
   "metadata": {},
   "outputs": [
    {
     "data": {
      "text/plain": [
       "0.38071925918600547"
      ]
     },
     "execution_count": 156,
     "metadata": {},
     "output_type": "execute_result"
    }
   ],
   "source": [
    "xgb_reg.score(x_train_df, y_train) "
   ]
  },
  {
   "cell_type": "code",
   "execution_count": 157,
   "id": "20cfa7ba",
   "metadata": {},
   "outputs": [
    {
     "name": "stdout",
     "output_type": "stream",
     "text": [
      "Predictions: [0.21148573 0.5063561  0.379316   ... 0.58439094 0.7082172  0.6972829 ]\n"
     ]
    }
   ],
   "source": [
    "print(\"Predictions:\", xgb_reg.predict(x_train_df))"
   ]
  },
  {
   "cell_type": "code",
   "execution_count": 147,
   "id": "b9e695d8",
   "metadata": {},
   "outputs": [
    {
     "name": "stdout",
     "output_type": "stream",
     "text": [
      "Labels: [0.1 0.1 0.1 ... 1.  1.  1. ]\n"
     ]
    }
   ],
   "source": [
    "print(\"Labels:\", y_train)"
   ]
  }
 ],
 "metadata": {
  "kernelspec": {
   "display_name": "Python 3",
   "language": "python",
   "name": "python3"
  },
  "language_info": {
   "codemirror_mode": {
    "name": "ipython",
    "version": 3
   },
   "file_extension": ".py",
   "mimetype": "text/x-python",
   "name": "python",
   "nbconvert_exporter": "python",
   "pygments_lexer": "ipython3",
   "version": "3.8.8"
  }
 },
 "nbformat": 4,
 "nbformat_minor": 5
}
